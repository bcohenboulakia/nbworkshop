{
 "cells": [
  {
   "attachments": {},
   "cell_type": "markdown",
   "metadata": {},
   "source": [
    "# Numeral systems \n",
    "\n",
    "Convert the number 115 to binary.\n",
    "\n",
    "<blockquote>\n",
    "    1110011\n",
    "</blockquote>\n",
    "\n",
    "An integer is represented in binary as a list of 0s and 1s. Write a <code class=\"language-python\"><span class=\"ͼv\">conversionBase2</span></code> function that converts an integer to its binary representation as a list of 0s and 1s. Note : bits are calculated in reverse order (little-endian), so you may need to reverse the list using the <code class=\"language-python\"><span class=\"ͼv\">reverse</span></code> method (or prepend digits to the front).\n",
    "\n",
    "<blockquote class=\"comment\">\n",
    "    Teachers should emphasis the use of <code class=\"language-python\"><span class=\"ͼ10\">//</span></code> against <code class=\"language-python\"><span class=\"ͼ10\">/</span></code>.\n",
    "</blockquote>"
   ]
  },
  {
   "cell_type": "code",
   "execution_count": 1,
   "metadata": {},
   "outputs": [
    {
     "data": {
      "text/plain": [
       "[1, 1, 1, 0, 0, 1, 1]"
      ]
     },
     "execution_count": 1,
     "metadata": {},
     "output_type": "execute_result"
    }
   ],
   "source": [
    "def conversionBase2(nombre):\n",
    "    if(nombre == 0):\n",
    "        return [0]\n",
    "    res = []\n",
    "    while nombre != 0:\n",
    "        res.append(nombre % 2) #SOLUTION\n",
    "        nombre //= 2           #SOLUTION\n",
    "    res.reverse()              #SOLUTION\n",
    "    return res\n",
    "\n",
    "conversionBase2(115)"
   ]
  }
 ],
 "metadata": {
  "kernelspec": {
   "display_name": "Python 3 (ipykernel)",
   "language": "python",
   "name": "python3"
  },
  "language_info": {
   "codemirror_mode": {
    "name": "ipython",
    "version": 3
   },
   "file_extension": ".py",
   "mimetype": "text/x-python",
   "name": "python",
   "nbconvert_exporter": "python",
   "pygments_lexer": "ipython3",
   "version": "3.12.7"
  },
  "vscode": {
   "interpreter": {
    "hash": "e5f921d2cbc40cc05b5a24db6ba0e6b62c33b50cc3ec097b0c624e897b5a9797"
   }
  },
  "widgets": {
   "application/vnd.jupyter.widget-state+json": {
    "state": {},
    "version_major": 2,
    "version_minor": 0
   }
  }
 },
 "nbformat": 4,
 "nbformat_minor": 4
}
