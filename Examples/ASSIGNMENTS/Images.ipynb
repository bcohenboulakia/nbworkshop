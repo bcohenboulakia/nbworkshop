{
 "cells": [
  {
   "cell_type": "markdown",
   "metadata": {},
   "source": [
    "# Images manipulations\n",
    "\n",
    "What is the problem with the factor that the `Tkinter Scale` returns?\n",
    "   \n",
    "<blockquote>\n",
    "    The problem with the factor that the Tkinter Scale returns is that it's a linear value, but gamma correction requires an exponential relationship. That's why the code converts the linear factor into a proper gamma value using the formula: $\\gamma = 2^{-factor}$. </blockquote>\n",
    "</blockquote>"
   ]
  },
  {
   "cell_type": "code",
   "execution_count": null,
   "metadata": {},
   "outputs": [],
   "source": [
    "def gamma_correction(pixels, factor):\n",
    "    # Get gamma factor from linear factor\n",
    "    gamma =\\\n",
    "        2**(-float(factor)) #SOLUTION\n",
    "    \n",
    "    max_value = float(np.iinfo(pixels.dtype).max)\n",
    "    matrix_gamma = pixels.astype(np.float64)\n",
    "    matrix_gamma =\\\n",
    "        max_value*(matrix_gamma/max_value)**gamma #SOLUTION\n",
    "    pixels = matrix_gamma.astype(pixels.dtype)"
   ]
  }
 ],
 "metadata": {
  "kernelspec": {
   "display_name": "Python 3 (ipykernel)",
   "language": "python",
   "name": "python3"
  },
  "language_info": {
   "codemirror_mode": {
    "name": "ipython",
    "version": 3
   },
   "file_extension": ".py",
   "mimetype": "text/x-python",
   "name": "python",
   "nbconvert_exporter": "python",
   "pygments_lexer": "ipython3",
   "version": "3.12.7"
  },
  "vscode": {
   "interpreter": {
    "hash": "e5f921d2cbc40cc05b5a24db6ba0e6b62c33b50cc3ec097b0c624e897b5a9797"
   }
  }
 },
 "nbformat": 4,
 "nbformat_minor": 4
}
